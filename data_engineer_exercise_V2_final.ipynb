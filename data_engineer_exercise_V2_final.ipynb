{
 "cells": [
  {
   "cell_type": "markdown",
   "metadata": {},
   "source": [
    "# Evaluation criteria\n",
    "\n",
    "The goal of this assignment is to get a view on your hands-on \"data engineering\" skills.  \n",
    "At our company, our data scientists and engineers collaborate on projects.  \n",
    "Your main focus will be creating performant & robust data flows.  \n",
    "For a take-home-assignment, we cannot grant you access to our infrastructure.  \n",
    "The assignement below measures your proficiency in general programming, data science & engineering tasks using python.  \n",
    "Completion should not take more than half a day.\n",
    "\n",
    "**We expect you to be proficient in:**\n",
    " * SQL queries (Sybase IQ system)\n",
    " * ETL flows (In collaboration with existing teams)\n",
    " * General python to glue it all together\n",
    " * Python data science ecosystem (Pandas + SKlearn)\n",
    " \n",
    "**In this exercise we expect you to demonstrate your ability to / knowledge of:**\n",
    " * Building a data science runtime\n",
    " * PEP8 / Google python styleguide\n",
    " * Efficiently getting the job done\n",
    " * Choose meaningfull names for variables & functions\n",
    " * Writing maintainable code (yes, you might need to document some steps)\n",
    " * Help a data scientist present interactive results.\n",
    " * Offer predictions via REST api"
   ]
  },
  {
   "cell_type": "markdown",
   "metadata": {},
   "source": [
    "# Setting-up a data science workspace\n",
    "\n",
    "We allow you full freedom in setting up a data science runtime.  \n",
    "The main objective is having a runtime where you can run this notebook and the code you will develop.  \n",
    "You can choose for a local setup on your pc, or even a cloud setup if you're up for it.   \n",
    "\n",
    "**In your environment, you will need things for:**\n",
    " * https request\n",
    " * python3 (not python2 !!)\n",
    " * (geo)pandas\n",
    " * interactive maps (e.g. folium, altair, ...)\n",
    " * REST apis\n",
    " \n",
    "**Deliverables we expect**:\n",
    " * notebook with the completed assignment\n",
    " * list of packages for your runtime (e.g. yml or txt file)\n",
    " * evidence of a working API endpoint"
   ]
  },
  {
   "cell_type": "markdown",
   "metadata": {},
   "source": [
    "# Importing packages"
   ]
  },
  {
   "cell_type": "markdown",
   "metadata": {},
   "source": [
    "We would like you to put all your import statements here, together in 1 place.  \n",
    "Before submitting, please make sure you remove any unused imports :-)  "
   ]
  },
  {
   "cell_type": "code",
   "execution_count": 15,
   "metadata": {},
   "outputs": [],
   "source": [
    "## your imports go here.  You get pandas for free.\n",
    "import pandas as pd\n",
    "import requests\n",
    "import joblib\n",
    "import numpy as np\n",
    "import unittest\n",
    "import math\n"
   ]
  },
  {
   "cell_type": "markdown",
   "metadata": {},
   "source": [
    "# Data ingestion exercises\n",
    "\n",
    "## Getting store location data from an API"
   ]
  },
  {
   "cell_type": "markdown",
   "metadata": {},
   "source": [
    "**Goal:** Obtain a pandas dataframe  \n",
    "**Hint:** You will need to normalise/flatten the json, because it contains multiple levels  \n",
    "**API call:** https://ecgplacesmw.colruytgroup.com/ecgplacesmw/v3/nl/places/filter/clp-places  "
   ]
  },
  {
   "cell_type": "code",
   "execution_count": null,
   "metadata": {},
   "outputs": [],
   "source": [
    "## your code goes here\n",
    "\n",
    "def get_clp_places(url):\n",
    "    raise NotImplementedError(\"You need to develop this method!\")\n",
    "\n",
    "df_clp = get_clp_places(\"https://ecgplacesmw.colruytgroup.com/ecgplacesmw/v3/nl/places/filter/clp-places\")\n",
    "df_clp.head(10)"
   ]
  },
  {
   "cell_type": "markdown",
   "metadata": {},
   "source": [
    "Solution Below:"
   ]
  },
  {
   "cell_type": "code",
   "execution_count": 16,
   "metadata": {},
   "outputs": [
    {
     "data": {
      "text/html": [
       "<div>\n",
       "<style scoped>\n",
       "    .dataframe tbody tr th:only-of-type {\n",
       "        vertical-align: middle;\n",
       "    }\n",
       "\n",
       "    .dataframe tbody tr th {\n",
       "        vertical-align: top;\n",
       "    }\n",
       "\n",
       "    .dataframe thead th {\n",
       "        text-align: right;\n",
       "    }\n",
       "</style>\n",
       "<table border=\"1\" class=\"dataframe\">\n",
       "  <thead>\n",
       "    <tr style=\"text-align: right;\">\n",
       "      <th></th>\n",
       "      <th>placeId</th>\n",
       "      <th>ensign</th>\n",
       "      <th>commercialName</th>\n",
       "      <th>branchId</th>\n",
       "      <th>sourceStatus</th>\n",
       "      <th>placeType</th>\n",
       "      <th>sellingPartners</th>\n",
       "      <th>handoverServices</th>\n",
       "      <th>geoCoordinates</th>\n",
       "      <th>address</th>\n",
       "      <th>moreInfoUrl</th>\n",
       "      <th>routeUrl</th>\n",
       "      <th>isActive</th>\n",
       "      <th>placeSearchOpeningHours</th>\n",
       "    </tr>\n",
       "  </thead>\n",
       "  <tbody>\n",
       "    <tr>\n",
       "      <th>0</th>\n",
       "      <td>902</td>\n",
       "      <td>{'id': 8, 'name': 'COLR_Colruyt'}</td>\n",
       "      <td>AALST (COLRUYT)</td>\n",
       "      <td>4156</td>\n",
       "      <td>AC</td>\n",
       "      <td>{'id': 1, 'longName': 'Winkel', 'placeTypeDesc...</td>\n",
       "      <td>[QUALITY, 3RDPARTY]</td>\n",
       "      <td>[CSOP_ORDERABLE, PREPAID_PARCEL]</td>\n",
       "      <td>{'latitude': 50.933074, 'longitude': 4.0538972}</td>\n",
       "      <td>{'streetName': 'BRUSSELSE STEENWEG', 'houseNum...</td>\n",
       "      <td>https://www.colruyt.be/nl/colruyt-openingsuren...</td>\n",
       "      <td>https://maps.apple.com/?daddr=50.933074,4.0538972</td>\n",
       "      <td>True</td>\n",
       "      <td>[{'date': '12-08-2023', 'opens': 830, 'closes'...</td>\n",
       "    </tr>\n",
       "    <tr>\n",
       "      <th>1</th>\n",
       "      <td>946</td>\n",
       "      <td>{'id': 8, 'name': 'COLR_Colruyt'}</td>\n",
       "      <td>AALTER (COLRUYT)</td>\n",
       "      <td>4218</td>\n",
       "      <td>AC</td>\n",
       "      <td>{'id': 1, 'longName': 'Winkel', 'placeTypeDesc...</td>\n",
       "      <td>[QUALITY, 3RDPARTY]</td>\n",
       "      <td>[CSOP_ORDERABLE, PREPAID_PARCEL]</td>\n",
       "      <td>{'latitude': 51.0784761, 'longitude': 3.4500133}</td>\n",
       "      <td>{'streetName': 'LOSTRAAT', 'houseNumber': '66'...</td>\n",
       "      <td>https://www.colruyt.be/nl/colruyt-openingsuren...</td>\n",
       "      <td>https://maps.apple.com/?daddr=51.0784761,3.450...</td>\n",
       "      <td>True</td>\n",
       "      <td>[{'date': '12-08-2023', 'opens': 830, 'closes'...</td>\n",
       "    </tr>\n",
       "    <tr>\n",
       "      <th>2</th>\n",
       "      <td>950</td>\n",
       "      <td>{'id': 8, 'name': 'COLR_Colruyt'}</td>\n",
       "      <td>AARSCHOT (COLRUYT)</td>\n",
       "      <td>4222</td>\n",
       "      <td>AC</td>\n",
       "      <td>{'id': 1, 'longName': 'Winkel', 'placeTypeDesc...</td>\n",
       "      <td>[QUALITY, 3RDPARTY]</td>\n",
       "      <td>[CSOP_ORDERABLE, PREPAID_PARCEL]</td>\n",
       "      <td>{'latitude': 50.9760369, 'longitude': 4.8110969}</td>\n",
       "      <td>{'streetName': 'LEUVENSESTEENWEG', 'houseNumbe...</td>\n",
       "      <td>https://www.colruyt.be/nl/colruyt-openingsuren...</td>\n",
       "      <td>https://maps.apple.com/?daddr=50.9760369,4.811...</td>\n",
       "      <td>True</td>\n",
       "      <td>[{'date': '12-08-2023', 'opens': 830, 'closes'...</td>\n",
       "    </tr>\n",
       "    <tr>\n",
       "      <th>3</th>\n",
       "      <td>886</td>\n",
       "      <td>{'id': 8, 'name': 'COLR_Colruyt'}</td>\n",
       "      <td>ALSEMBERG (COLRUYT)</td>\n",
       "      <td>4138</td>\n",
       "      <td>AC</td>\n",
       "      <td>{'id': 1, 'longName': 'Winkel', 'placeTypeDesc...</td>\n",
       "      <td>[QUALITY, 3RDPARTY]</td>\n",
       "      <td>[CSOP_ORDERABLE, PREPAID_PARCEL]</td>\n",
       "      <td>{'latitude': 50.7415212, 'longitude': 4.336719}</td>\n",
       "      <td>{'streetName': 'BRUSSELSESTEENWEG', 'houseNumb...</td>\n",
       "      <td>https://www.colruyt.be/nl/colruyt-openingsuren...</td>\n",
       "      <td>https://maps.apple.com/?daddr=50.7415212,4.336719</td>\n",
       "      <td>True</td>\n",
       "      <td>[{'date': '12-08-2023', 'opens': 830, 'closes'...</td>\n",
       "    </tr>\n",
       "    <tr>\n",
       "      <th>4</th>\n",
       "      <td>783</td>\n",
       "      <td>{'id': 8, 'name': 'COLR_Colruyt'}</td>\n",
       "      <td>AMAY (COLRUYT)</td>\n",
       "      <td>3853</td>\n",
       "      <td>AC</td>\n",
       "      <td>{'id': 1, 'longName': 'Winkel', 'placeTypeDesc...</td>\n",
       "      <td>[QUALITY, 3RDPARTY]</td>\n",
       "      <td>[CSOP_ORDERABLE, PREPAID_PARCEL]</td>\n",
       "      <td>{'latitude': 50.5599284, 'longitude': 5.3061951}</td>\n",
       "      <td>{'streetName': 'CHAUSSEE DE TONGRES', 'houseNu...</td>\n",
       "      <td>https://www.colruyt.be/nl/colruyt-openingsuren...</td>\n",
       "      <td>https://maps.apple.com/?daddr=50.5599284,5.306...</td>\n",
       "      <td>True</td>\n",
       "      <td>[{'date': '12-08-2023', 'opens': 830, 'closes'...</td>\n",
       "    </tr>\n",
       "  </tbody>\n",
       "</table>\n",
       "</div>"
      ],
      "text/plain": [
       "   placeId                             ensign       commercialName branchId  \\\n",
       "0      902  {'id': 8, 'name': 'COLR_Colruyt'}      AALST (COLRUYT)     4156   \n",
       "1      946  {'id': 8, 'name': 'COLR_Colruyt'}     AALTER (COLRUYT)     4218   \n",
       "2      950  {'id': 8, 'name': 'COLR_Colruyt'}   AARSCHOT (COLRUYT)     4222   \n",
       "3      886  {'id': 8, 'name': 'COLR_Colruyt'}  ALSEMBERG (COLRUYT)     4138   \n",
       "4      783  {'id': 8, 'name': 'COLR_Colruyt'}       AMAY (COLRUYT)     3853   \n",
       "\n",
       "  sourceStatus                                          placeType  \\\n",
       "0           AC  {'id': 1, 'longName': 'Winkel', 'placeTypeDesc...   \n",
       "1           AC  {'id': 1, 'longName': 'Winkel', 'placeTypeDesc...   \n",
       "2           AC  {'id': 1, 'longName': 'Winkel', 'placeTypeDesc...   \n",
       "3           AC  {'id': 1, 'longName': 'Winkel', 'placeTypeDesc...   \n",
       "4           AC  {'id': 1, 'longName': 'Winkel', 'placeTypeDesc...   \n",
       "\n",
       "       sellingPartners                  handoverServices  \\\n",
       "0  [QUALITY, 3RDPARTY]  [CSOP_ORDERABLE, PREPAID_PARCEL]   \n",
       "1  [QUALITY, 3RDPARTY]  [CSOP_ORDERABLE, PREPAID_PARCEL]   \n",
       "2  [QUALITY, 3RDPARTY]  [CSOP_ORDERABLE, PREPAID_PARCEL]   \n",
       "3  [QUALITY, 3RDPARTY]  [CSOP_ORDERABLE, PREPAID_PARCEL]   \n",
       "4  [QUALITY, 3RDPARTY]  [CSOP_ORDERABLE, PREPAID_PARCEL]   \n",
       "\n",
       "                                     geoCoordinates  \\\n",
       "0   {'latitude': 50.933074, 'longitude': 4.0538972}   \n",
       "1  {'latitude': 51.0784761, 'longitude': 3.4500133}   \n",
       "2  {'latitude': 50.9760369, 'longitude': 4.8110969}   \n",
       "3   {'latitude': 50.7415212, 'longitude': 4.336719}   \n",
       "4  {'latitude': 50.5599284, 'longitude': 5.3061951}   \n",
       "\n",
       "                                             address  \\\n",
       "0  {'streetName': 'BRUSSELSE STEENWEG', 'houseNum...   \n",
       "1  {'streetName': 'LOSTRAAT', 'houseNumber': '66'...   \n",
       "2  {'streetName': 'LEUVENSESTEENWEG', 'houseNumbe...   \n",
       "3  {'streetName': 'BRUSSELSESTEENWEG', 'houseNumb...   \n",
       "4  {'streetName': 'CHAUSSEE DE TONGRES', 'houseNu...   \n",
       "\n",
       "                                         moreInfoUrl  \\\n",
       "0  https://www.colruyt.be/nl/colruyt-openingsuren...   \n",
       "1  https://www.colruyt.be/nl/colruyt-openingsuren...   \n",
       "2  https://www.colruyt.be/nl/colruyt-openingsuren...   \n",
       "3  https://www.colruyt.be/nl/colruyt-openingsuren...   \n",
       "4  https://www.colruyt.be/nl/colruyt-openingsuren...   \n",
       "\n",
       "                                            routeUrl  isActive  \\\n",
       "0  https://maps.apple.com/?daddr=50.933074,4.0538972      True   \n",
       "1  https://maps.apple.com/?daddr=51.0784761,3.450...      True   \n",
       "2  https://maps.apple.com/?daddr=50.9760369,4.811...      True   \n",
       "3  https://maps.apple.com/?daddr=50.7415212,4.336719      True   \n",
       "4  https://maps.apple.com/?daddr=50.5599284,5.306...      True   \n",
       "\n",
       "                             placeSearchOpeningHours  \n",
       "0  [{'date': '12-08-2023', 'opens': 830, 'closes'...  \n",
       "1  [{'date': '12-08-2023', 'opens': 830, 'closes'...  \n",
       "2  [{'date': '12-08-2023', 'opens': 830, 'closes'...  \n",
       "3  [{'date': '12-08-2023', 'opens': 830, 'closes'...  \n",
       "4  [{'date': '12-08-2023', 'opens': 830, 'closes'...  "
      ]
     },
     "execution_count": 16,
     "metadata": {},
     "output_type": "execute_result"
    }
   ],
   "source": [
    "url = \"https://ecgplacesmw.colruytgroup.com/ecgplacesmw/v3/nl/places/filter/clp-places\"\n",
    "response  = requests.get(url)\n",
    "\n",
    "if response.status_code == 200:\n",
    "    data = response.json()\n",
    "    df = pd.DataFrame(data)\n",
    "    \n",
    "df.head()"
   ]
  },
  {
   "cell_type": "code",
   "execution_count": 17,
   "metadata": {},
   "outputs": [],
   "source": [
    "df_v2= df.copy()"
   ]
  },
  {
   "cell_type": "code",
   "execution_count": 18,
   "metadata": {},
   "outputs": [],
   "source": [
    "df_v2= df.copy()\n",
    "cols_to_flatten = ['ensign','placeType','geoCoordinates','address','placeSearchOpeningHours']\n",
    "flat_df = []\n",
    "\n",
    "for i in cols_to_flatten:\n",
    "    \n",
    "    # Apply the flatten_dict function to each row in the DataFrame\n",
    "    temp_df = pd.json_normalize(df[i])\n",
    "\n",
    "    # Create a new DataFrame with the flattened data\n",
    "    flat_df = pd.DataFrame(temp_df)\n",
    "    \n",
    "    df_v2 = pd.concat([df_v2,flat_df],axis=1)\n",
    "    df_v2.drop([i],inplace=True, axis=1)"
   ]
  },
  {
   "cell_type": "markdown",
   "metadata": {},
   "source": [
    "### Quality checks\n",
    "\n",
    "We would like you to add several checks on this data based on these constraints:  \n",
    " * records > 200\n",
    " * latitude between 49 and 52\n",
    " * longitude between 2 and 7\n",
    " \n",
    "We dont want you to create a full blown test suite here, we're just gonna use 'asserts' from unittest"
   ]
  },
  {
   "cell_type": "markdown",
   "metadata": {},
   "source": [
    "Solution Below"
   ]
  },
  {
   "cell_type": "code",
   "execution_count": 19,
   "metadata": {},
   "outputs": [
    {
     "name": "stderr",
     "output_type": "stream",
     "text": [
      "C:\\Users\\N-Workstation\\AppData\\Local\\Temp\\ipykernel_11564\\1832540710.py:6: DeprecationWarning: Please use assertEqual instead.\n",
      "  tc.assertEquals(len(df_v2)> 200, True, \"Records > 200\")\n",
      "C:\\Users\\N-Workstation\\AppData\\Local\\Temp\\ipykernel_11564\\1832540710.py:8: DeprecationWarning: Please use assertEqual instead.\n",
      "  tc.assertEquals(all(49 <= lat <= 52 for lat in df_v2['latitude']), True, \"latitude between 49 and 52\")\n",
      "C:\\Users\\N-Workstation\\AppData\\Local\\Temp\\ipykernel_11564\\1832540710.py:10: DeprecationWarning: Please use assertEqual instead.\n",
      "  tc.assertEquals(all(2 <= lon <= 7 for lon in df_v2['longitude']), True, \"longitude between 2 and 7\")\n"
     ]
    }
   ],
   "source": [
    "##Checks on data based on above three constraints\n",
    "tc = unittest.TestCase('__init__')\n",
    "\n",
    "#tc.assertEquals(1, 2, \"Replace this assert with meaningfull checks\")\n",
    "\n",
    "tc.assertEquals(len(df_v2)> 200, True, \"Records > 200\")\n",
    "\n",
    "tc.assertEquals(all(49 <= lat <= 52 for lat in df_v2['latitude']), True, \"latitude between 49 and 52\")\n",
    "\n",
    "tc.assertEquals(all(2 <= lon <= 7 for lon in df_v2['longitude']), True, \"longitude between 2 and 7\")"
   ]
  },
  {
   "cell_type": "markdown",
   "metadata": {},
   "source": [
    "### Feature creation\n",
    "\n",
    "Create a new column \"antwerpen\" which is 1 for all stores in Antwerpen (province) and 0 for all others "
   ]
  },
  {
   "cell_type": "code",
   "execution_count": null,
   "metadata": {},
   "outputs": [],
   "source": [
    "## your code goes here\n",
    "raise NotImplementedError(\"You need to develop this feature!\")\n",
    "\n",
    "df_clp[\"antwerpen\"].value_counts()"
   ]
  },
  {
   "cell_type": "markdown",
   "metadata": {},
   "source": [
    "Solution:"
   ]
  },
  {
   "cell_type": "code",
   "execution_count": 20,
   "metadata": {},
   "outputs": [],
   "source": [
    "df_v2['antwerpen'] = df_v2['cityName'].str.contains('Antwerpen', case=False).astype(int)"
   ]
  },
  {
   "cell_type": "code",
   "execution_count": 21,
   "metadata": {},
   "outputs": [
    {
     "data": {
      "text/plain": [
       "0    252\n",
       "1      7\n",
       "Name: antwerpen, dtype: int64"
      ]
     },
     "execution_count": 21,
     "metadata": {},
     "output_type": "execute_result"
    }
   ],
   "source": [
    "df_v2[\"antwerpen\"].value_counts()"
   ]
  },
  {
   "cell_type": "markdown",
   "metadata": {},
   "source": [
    "## Predict used car value\n",
    "\n",
    "A datascientist in our team made a basic model to predict car prices.  \n",
    "The model was saved to disk ('lgbr_cars.model') using joblib's dump fuctionality.  \n",
    "Documentation states the model is a LightGBM Regressor, trained using the sk-learn api.  \n",
    "\n",
    "**As engineer, your task it to expose this model as REST-api.** \n",
    "\n",
    "First, retrieve the model via the function below.  \n",
    "Change the path according to your setup.  "
   ]
  },
  {
   "cell_type": "code",
   "execution_count": null,
   "metadata": {},
   "outputs": [],
   "source": [
    "## your code goes here\n",
    "\n",
    "def retrieve_model(path):\n",
    "    raise NotImplementedError(\"You need to retrieve the trained model!\")\n",
    "    return trained_model\n",
    "\n",
    "lgbr_cars = retrieve_model(\"../../models/lgbr_cars.model\")\n",
    "\n",
    "tc.assertEqual(str(type(lgbr_cars)),\"<class 'lightgbm.sklearn.LGBMRegressor'>\", type(lgbr_cars))"
   ]
  },
  {
   "cell_type": "markdown",
   "metadata": {},
   "source": [
    "Solution:"
   ]
  },
  {
   "cell_type": "code",
   "execution_count": 22,
   "metadata": {},
   "outputs": [],
   "source": [
    "\n",
    "tc = unittest.TestCase('__init__')\n",
    "\n",
    "# Load the saved model from the file\n",
    "lgbr_cars = joblib.load('lgbr_cars.model')\n",
    "\n",
    "tc.assertEqual(str(type(lgbr_cars)),\"<class 'lightgbm.sklearn.LGBMRegressor'>\", type(lgbr_cars))"
   ]
  },
  {
   "cell_type": "markdown",
   "metadata": {},
   "source": [
    "Now you have your trained model, lets do a functional test based on the parameters below.  \n",
    "You have to present the parameters in this order.  \n",
    "\n",
    "* vehicleType: coupe\n",
    "* gearbox: manuell\n",
    "* powerPS: 190\n",
    "* model: NaN\n",
    "* kilometer: 125000\n",
    "* monthOfRegistration: 5 \n",
    "* fuelType: diesel\n",
    "* brand: audi\n",
    "\n",
    "Based on these parameters, you should get a predicted value of 14026.35068804\n",
    "However, the model doesnt accept string inputs, see the integer encoding below:"
   ]
  },
  {
   "cell_type": "code",
   "execution_count": 23,
   "metadata": {},
   "outputs": [],
   "source": [
    "model_test_input = [[3,1,190,-1,125000,5,3,1]]"
   ]
  },
  {
   "cell_type": "code",
   "execution_count": 24,
   "metadata": {},
   "outputs": [],
   "source": [
    "## your code goes here\n",
    "\n",
    "def make_prediction(trained_model, single_input):\n",
    "    predicted_value =  trained_model.predict(single_input)\n",
    "    #raise NotImplementedError(\"You need to predict the value!\")\n",
    "    return predicted_value\n",
    "\n",
    "predicted_value = make_prediction(lgbr_cars, model_test_input)\n",
    "#print(np.round(predicted_value,2))\n",
    "\n",
    "tc.assertAlmostEqual(np.round(predicted_value,2), 14026.35, places=2)"
   ]
  },
  {
   "cell_type": "code",
   "execution_count": 25,
   "metadata": {},
   "outputs": [
    {
     "name": "stdout",
     "output_type": "stream",
     "text": [
      "[13920.70463564]\n"
     ]
    }
   ],
   "source": [
    "model_test_input_RestApi = [[-1,1,0,118,150000,0,1,38]]\n",
    "\n",
    "predicted_value = make_prediction(lgbr_cars, model_test_input_RestApi)\n",
    "\n",
    "print(predicted_value)"
   ]
  },
  {
   "cell_type": "markdown",
   "metadata": {},
   "source": [
    "Now you got this model up and running, we want you to **expose it as a rest api.**  \n",
    "We don't expect you to set up any authentication.  \n",
    "We're not looking for beautiful inputs, just make it work.  \n",
    "**Building this endpoint should NOT be done in a notebook, but in proper .py file(s)**\n",
    "\n",
    "Once its up and running, use it to predict the following input:\n",
    "* [-1,1,0,118,150000,0,1,38] ==> prediction should be 13920.70"
   ]
  },
  {
   "cell_type": "markdown",
   "metadata": {},
   "source": [
    "***Solution:***\n",
    "    \n",
    "Please refer attached app.py file & please execute python app.py in your terminal to start flask app & you can use curl (tested on gitbash) to test the endpoint: curl -X POST -H \"Content-Type: application/json\" -d '{\"data\": [-1,1,0,118,150000,0,1,38]}' http://127.0.0.1:5000/predict\n"
   ]
  },
  {
   "cell_type": "markdown",
   "metadata": {},
   "source": [
    "## Geospatial data exercise\n",
    "The goal of this exercise is to read in some data from a shape file and visualize it on a map\n",
    "- The map should be dynamic. I want to zoom in and out to see more interesting aspects of the map\n",
    "- We want you to visualize the statistical sectors within a distance of 2KM of your home location.\n",
    "\n",
    "Specific steps to take:\n",
    "- Read in the shape file\n",
    "- Transform to WGS coordinates\n",
    "- Create a distance function (Haversine)\n",
    "- Create variables for home_lat, home_lon and perimeter_distance\n",
    "- Calculate centroid for each nis district\n",
    "- Calculate the distance to home for each nis district centroid \n",
    "- Figure out which nis districts are near your home\n",
    "- Create dynamic zoomable map\n",
    "- Visualize the nis districts near you (centroid <2km away), on the map\n"
   ]
  },
  {
   "cell_type": "code",
   "execution_count": 1,
   "metadata": {},
   "outputs": [],
   "source": [
    "# Some imports to help you along the way\n",
    "import geopandas as gpd\n",
    "import folium # you can use any viz library you prefer"
   ]
  },
  {
   "cell_type": "code",
   "execution_count": null,
   "metadata": {},
   "outputs": [],
   "source": [
    "# part 1: Reading in the data\n",
    "# get this file from https://statbel.fgov.be/sites/default/files/files/opendata/Statistische%20sectoren/sh_statbel_statistical_sectors_20200101.shp.zip \n",
    "df = gpd.read_file('AD_0_StatisticSector.shp')\n",
    "df = df.to_crs({'init': 'epsg:4326'}) # change projection to wgs84 \n",
    "\n",
    "# One of the data scientists discovered stackoverflow ;-) and copypasted something from https://gis.stackexchange.com/questions/166820/geopandas-return-lat-and-long-of-a-centroid-point\n",
    "# A data science engineer should be able to speed this next code up\n",
    "\n",
    "for i in range(0, len(df)):\n",
    "    df.loc[i,'centroid_lon'] = df.geometry.centroid.x.iloc[i]\n",
    "    df.loc[i,'centroid_lat'] = df.geometry.centroid.y.iloc[i]\n",
    "    \n",
    "    \n"
   ]
  },
  {
   "cell_type": "markdown",
   "metadata": {},
   "source": [
    "Solution Starts below:"
   ]
  },
  {
   "cell_type": "code",
   "execution_count": 2,
   "metadata": {},
   "outputs": [
    {
     "name": "stderr",
     "output_type": "stream",
     "text": [
      "c:\\ProgramData\\anaconda3\\envs\\dse_candidate\\lib\\site-packages\\pyproj\\crs\\crs.py:141: FutureWarning: '+init=<authority>:<code>' syntax is deprecated. '<authority>:<code>' is the preferred initialization method. When making the change, be mindful of axis order changes: https://pyproj4.github.io/pyproj/stable/gotchas.html#axis-order-changes-in-proj-6\n",
      "  in_crs_string = _prepare_from_proj_string(in_crs_string)\n"
     ]
    }
   ],
   "source": [
    "gdf = gpd.read_file('sh_statbel_statistical_sectors_20200101.shp')\n",
    "gdf = gdf.to_crs({'init': 'epsg:4326'}) # change projection to wgs84 \n",
    "\n",
    "# Calculate centroids in the projected CRS\n",
    "gdf['centroid_lon'] = gdf.geometry.centroid.x\n",
    "gdf['centroid_lat'] = gdf.geometry.centroid.y"
   ]
  },
  {
   "cell_type": "code",
   "execution_count": 5,
   "metadata": {},
   "outputs": [
    {
     "data": {
      "text/html": [
       "<div>\n",
       "<style scoped>\n",
       "    .dataframe tbody tr th:only-of-type {\n",
       "        vertical-align: middle;\n",
       "    }\n",
       "\n",
       "    .dataframe tbody tr th {\n",
       "        vertical-align: top;\n",
       "    }\n",
       "\n",
       "    .dataframe thead th {\n",
       "        text-align: right;\n",
       "    }\n",
       "</style>\n",
       "<table border=\"1\" class=\"dataframe\">\n",
       "  <thead>\n",
       "    <tr style=\"text-align: right;\">\n",
       "      <th></th>\n",
       "      <th>CS01012020</th>\n",
       "      <th>T_SEC_NL</th>\n",
       "      <th>T_SEC_FR</th>\n",
       "      <th>T_SEC_DE</th>\n",
       "      <th>C_NIS6</th>\n",
       "      <th>T_NIS6_NL</th>\n",
       "      <th>T_NIS6_FR</th>\n",
       "      <th>CNIS5_2020</th>\n",
       "      <th>T_MUN_NL</th>\n",
       "      <th>T_MUN_FR</th>\n",
       "      <th>...</th>\n",
       "      <th>T_REGIO_DE</th>\n",
       "      <th>C_COUNTRY</th>\n",
       "      <th>NUTS1</th>\n",
       "      <th>NUTS2</th>\n",
       "      <th>NUTS3</th>\n",
       "      <th>M_AREA_HA</th>\n",
       "      <th>M_PERI_M</th>\n",
       "      <th>geometry</th>\n",
       "      <th>centroid_lon</th>\n",
       "      <th>centroid_lat</th>\n",
       "    </tr>\n",
       "  </thead>\n",
       "  <tbody>\n",
       "    <tr>\n",
       "      <th>0</th>\n",
       "      <td>11001A00-</td>\n",
       "      <td>AARTSELAAR-CENTRUM</td>\n",
       "      <td>AARTSELAAR-CENTRUM</td>\n",
       "      <td>AARTSELAAR-CENTRUM</td>\n",
       "      <td>11001A</td>\n",
       "      <td>AARTSELAAR</td>\n",
       "      <td>AARTSELAAR</td>\n",
       "      <td>11001</td>\n",
       "      <td>Aartselaar</td>\n",
       "      <td>Aartselaar</td>\n",
       "      <td>...</td>\n",
       "      <td>Flämische Region</td>\n",
       "      <td>BE</td>\n",
       "      <td>BE2</td>\n",
       "      <td>BE21</td>\n",
       "      <td>BE211</td>\n",
       "      <td>53.158103</td>\n",
       "      <td>5248.0</td>\n",
       "      <td>POLYGON Z ((4.39247 51.13717 0.00000, 4.39519 ...</td>\n",
       "      <td>4.388756</td>\n",
       "      <td>51.132421</td>\n",
       "    </tr>\n",
       "    <tr>\n",
       "      <th>1</th>\n",
       "      <td>11001A01-</td>\n",
       "      <td>DE LEEUWERIK</td>\n",
       "      <td>DE LEEUWERIK</td>\n",
       "      <td>DE LEEUWERIK</td>\n",
       "      <td>11001A</td>\n",
       "      <td>AARTSELAAR</td>\n",
       "      <td>AARTSELAAR</td>\n",
       "      <td>11001</td>\n",
       "      <td>Aartselaar</td>\n",
       "      <td>Aartselaar</td>\n",
       "      <td>...</td>\n",
       "      <td>Flämische Region</td>\n",
       "      <td>BE</td>\n",
       "      <td>BE2</td>\n",
       "      <td>BE21</td>\n",
       "      <td>BE211</td>\n",
       "      <td>67.114679</td>\n",
       "      <td>3935.0</td>\n",
       "      <td>POLYGON Z ((4.39374 51.13858 0.00000, 4.39356 ...</td>\n",
       "      <td>4.384630</td>\n",
       "      <td>51.138929</td>\n",
       "    </tr>\n",
       "    <tr>\n",
       "      <th>2</th>\n",
       "      <td>11001A020</td>\n",
       "      <td>BUERSTEDE</td>\n",
       "      <td>BUERSTEDE</td>\n",
       "      <td>BUERSTEDE</td>\n",
       "      <td>11001A</td>\n",
       "      <td>AARTSELAAR</td>\n",
       "      <td>AARTSELAAR</td>\n",
       "      <td>11001</td>\n",
       "      <td>Aartselaar</td>\n",
       "      <td>Aartselaar</td>\n",
       "      <td>...</td>\n",
       "      <td>Flämische Region</td>\n",
       "      <td>BE</td>\n",
       "      <td>BE2</td>\n",
       "      <td>BE21</td>\n",
       "      <td>BE211</td>\n",
       "      <td>28.084365</td>\n",
       "      <td>2202.0</td>\n",
       "      <td>POLYGON Z ((4.37785 51.13689 0.00000, 4.37634 ...</td>\n",
       "      <td>4.374922</td>\n",
       "      <td>51.139997</td>\n",
       "    </tr>\n",
       "    <tr>\n",
       "      <th>3</th>\n",
       "      <td>11001A030</td>\n",
       "      <td>YSSELAAR</td>\n",
       "      <td>YSSELAAR</td>\n",
       "      <td>YSSELAAR</td>\n",
       "      <td>11001A</td>\n",
       "      <td>AARTSELAAR</td>\n",
       "      <td>AARTSELAAR</td>\n",
       "      <td>11001</td>\n",
       "      <td>Aartselaar</td>\n",
       "      <td>Aartselaar</td>\n",
       "      <td>...</td>\n",
       "      <td>Flämische Region</td>\n",
       "      <td>BE</td>\n",
       "      <td>BE2</td>\n",
       "      <td>BE21</td>\n",
       "      <td>BE211</td>\n",
       "      <td>42.811849</td>\n",
       "      <td>3403.0</td>\n",
       "      <td>POLYGON Z ((4.39140 51.14451 0.00000, 4.39057 ...</td>\n",
       "      <td>4.382041</td>\n",
       "      <td>51.144913</td>\n",
       "    </tr>\n",
       "    <tr>\n",
       "      <th>4</th>\n",
       "      <td>11001A042</td>\n",
       "      <td>KLEINE GRIPPE</td>\n",
       "      <td>KLEINE GRIPPE</td>\n",
       "      <td>KLEINE GRIPPE</td>\n",
       "      <td>11001A</td>\n",
       "      <td>AARTSELAAR</td>\n",
       "      <td>AARTSELAAR</td>\n",
       "      <td>11001</td>\n",
       "      <td>Aartselaar</td>\n",
       "      <td>Aartselaar</td>\n",
       "      <td>...</td>\n",
       "      <td>Flämische Region</td>\n",
       "      <td>BE</td>\n",
       "      <td>BE2</td>\n",
       "      <td>BE21</td>\n",
       "      <td>BE211</td>\n",
       "      <td>25.561955</td>\n",
       "      <td>2166.0</td>\n",
       "      <td>POLYGON Z ((4.39374 51.13858 0.00000, 4.39350 ...</td>\n",
       "      <td>4.391940</td>\n",
       "      <td>51.142112</td>\n",
       "    </tr>\n",
       "  </tbody>\n",
       "</table>\n",
       "<p>5 rows × 32 columns</p>\n",
       "</div>"
      ],
      "text/plain": [
       "  CS01012020            T_SEC_NL            T_SEC_FR            T_SEC_DE  \\\n",
       "0  11001A00-  AARTSELAAR-CENTRUM  AARTSELAAR-CENTRUM  AARTSELAAR-CENTRUM   \n",
       "1  11001A01-        DE LEEUWERIK        DE LEEUWERIK        DE LEEUWERIK   \n",
       "2  11001A020           BUERSTEDE           BUERSTEDE           BUERSTEDE   \n",
       "3  11001A030            YSSELAAR            YSSELAAR            YSSELAAR   \n",
       "4  11001A042       KLEINE GRIPPE       KLEINE GRIPPE       KLEINE GRIPPE   \n",
       "\n",
       "   C_NIS6   T_NIS6_NL   T_NIS6_FR CNIS5_2020    T_MUN_NL    T_MUN_FR  ...  \\\n",
       "0  11001A  AARTSELAAR  AARTSELAAR      11001  Aartselaar  Aartselaar  ...   \n",
       "1  11001A  AARTSELAAR  AARTSELAAR      11001  Aartselaar  Aartselaar  ...   \n",
       "2  11001A  AARTSELAAR  AARTSELAAR      11001  Aartselaar  Aartselaar  ...   \n",
       "3  11001A  AARTSELAAR  AARTSELAAR      11001  Aartselaar  Aartselaar  ...   \n",
       "4  11001A  AARTSELAAR  AARTSELAAR      11001  Aartselaar  Aartselaar  ...   \n",
       "\n",
       "         T_REGIO_DE C_COUNTRY NUTS1 NUTS2  NUTS3  M_AREA_HA M_PERI_M  \\\n",
       "0  Flämische Region        BE   BE2  BE21  BE211  53.158103   5248.0   \n",
       "1  Flämische Region        BE   BE2  BE21  BE211  67.114679   3935.0   \n",
       "2  Flämische Region        BE   BE2  BE21  BE211  28.084365   2202.0   \n",
       "3  Flämische Region        BE   BE2  BE21  BE211  42.811849   3403.0   \n",
       "4  Flämische Region        BE   BE2  BE21  BE211  25.561955   2166.0   \n",
       "\n",
       "                                            geometry centroid_lon centroid_lat  \n",
       "0  POLYGON Z ((4.39247 51.13717 0.00000, 4.39519 ...     4.388756    51.132421  \n",
       "1  POLYGON Z ((4.39374 51.13858 0.00000, 4.39356 ...     4.384630    51.138929  \n",
       "2  POLYGON Z ((4.37785 51.13689 0.00000, 4.37634 ...     4.374922    51.139997  \n",
       "3  POLYGON Z ((4.39140 51.14451 0.00000, 4.39057 ...     4.382041    51.144913  \n",
       "4  POLYGON Z ((4.39374 51.13858 0.00000, 4.39350 ...     4.391940    51.142112  \n",
       "\n",
       "[5 rows x 32 columns]"
      ]
     },
     "execution_count": 5,
     "metadata": {},
     "output_type": "execute_result"
    }
   ],
   "source": [
    "gdf.head()"
   ]
  },
  {
   "cell_type": "code",
   "execution_count": 18,
   "metadata": {},
   "outputs": [],
   "source": [
    "# Let's create some variables to indicate the location of your interest \n",
    "home_lat = 51.132421\n",
    "home_lon = 4.288756\n",
    "perimeter_distance = 2 # km"
   ]
  },
  {
   "cell_type": "code",
   "execution_count": null,
   "metadata": {},
   "outputs": [],
   "source": [
    "# At some point we will need a distance function (google the Haversine formula, and implement it)\n",
    "\n",
    "def haversine(lat1, lon1, lat2, lon2):\n",
    "    raise NotImplementedError('Implement haversine')\n"
   ]
  },
  {
   "cell_type": "code",
   "execution_count": 5,
   "metadata": {},
   "outputs": [],
   "source": [
    "import math\n",
    "def haversine_distance(lat1, lon1, lat2, lon2):\n",
    "    # Radius of the Earth in kilometers\n",
    "    R = 6371.0\n",
    "\n",
    "    # Convert latitude and longitude from degrees to radians\n",
    "    lat1_rad = math.radians(lat1)\n",
    "    lon1_rad = math.radians(lon1)\n",
    "    lat2_rad = math.radians(lat2)\n",
    "    lon2_rad = math.radians(lon2)\n",
    "\n",
    "    # Differences between the latitudes and longitudes\n",
    "    dlat = lat2_rad - lat1_rad\n",
    "    dlon = lon2_rad - lon1_rad\n",
    "\n",
    "    # Haversine formula\n",
    "    a = math.sin(dlat / 2)**2 + math.cos(lat1_rad) * math.cos(lat2_rad) * math.sin(dlon / 2)**2\n",
    "    c = 2 * math.atan2(math.sqrt(a), math.sqrt(1 - a))\n",
    "    distance = R * c\n",
    "\n",
    "    return distance"
   ]
  },
  {
   "cell_type": "markdown",
   "metadata": {},
   "source": [
    "Next, implement some sanity checks for your distance function "
   ]
  },
  {
   "cell_type": "code",
   "execution_count": 7,
   "metadata": {},
   "outputs": [],
   "source": [
    "\n",
    "# implement sanity checks here\n",
    "import unittest\n",
    "tc = unittest.TestCase('__init__')\n",
    "\n",
    "#Checking for distance is zero\n",
    "tc.assertAlmostEqual(haversine_distance(52.5200, 13.4050, 52.5200, 13.4050), 0)"
   ]
  },
  {
   "cell_type": "markdown",
   "metadata": {},
   "source": [
    "Now, create a dynamical map "
   ]
  },
  {
   "cell_type": "code",
   "execution_count": null,
   "metadata": {},
   "outputs": [],
   "source": [
    "# implementation of the map goes here"
   ]
  },
  {
   "cell_type": "markdown",
   "metadata": {},
   "source": [
    "Solution:"
   ]
  },
  {
   "cell_type": "code",
   "execution_count": 11,
   "metadata": {},
   "outputs": [
    {
     "data": {
      "text/html": [
       "<div>\n",
       "<style scoped>\n",
       "    .dataframe tbody tr th:only-of-type {\n",
       "        vertical-align: middle;\n",
       "    }\n",
       "\n",
       "    .dataframe tbody tr th {\n",
       "        vertical-align: top;\n",
       "    }\n",
       "\n",
       "    .dataframe thead th {\n",
       "        text-align: right;\n",
       "    }\n",
       "</style>\n",
       "<table border=\"1\" class=\"dataframe\">\n",
       "  <thead>\n",
       "    <tr style=\"text-align: right;\">\n",
       "      <th></th>\n",
       "      <th>CS01012020</th>\n",
       "      <th>T_SEC_NL</th>\n",
       "      <th>T_SEC_FR</th>\n",
       "      <th>T_SEC_DE</th>\n",
       "      <th>C_NIS6</th>\n",
       "      <th>T_NIS6_NL</th>\n",
       "      <th>T_NIS6_FR</th>\n",
       "      <th>CNIS5_2020</th>\n",
       "      <th>T_MUN_NL</th>\n",
       "      <th>T_MUN_FR</th>\n",
       "      <th>...</th>\n",
       "      <th>T_REGIO_DE</th>\n",
       "      <th>C_COUNTRY</th>\n",
       "      <th>NUTS1</th>\n",
       "      <th>NUTS2</th>\n",
       "      <th>NUTS3</th>\n",
       "      <th>M_AREA_HA</th>\n",
       "      <th>M_PERI_M</th>\n",
       "      <th>geometry</th>\n",
       "      <th>centroid_lon</th>\n",
       "      <th>centroid_lat</th>\n",
       "    </tr>\n",
       "  </thead>\n",
       "  <tbody>\n",
       "    <tr>\n",
       "      <th>0</th>\n",
       "      <td>11001A00-</td>\n",
       "      <td>AARTSELAAR-CENTRUM</td>\n",
       "      <td>AARTSELAAR-CENTRUM</td>\n",
       "      <td>AARTSELAAR-CENTRUM</td>\n",
       "      <td>11001A</td>\n",
       "      <td>AARTSELAAR</td>\n",
       "      <td>AARTSELAAR</td>\n",
       "      <td>11001</td>\n",
       "      <td>Aartselaar</td>\n",
       "      <td>Aartselaar</td>\n",
       "      <td>...</td>\n",
       "      <td>Flämische Region</td>\n",
       "      <td>BE</td>\n",
       "      <td>BE2</td>\n",
       "      <td>BE21</td>\n",
       "      <td>BE211</td>\n",
       "      <td>53.158103</td>\n",
       "      <td>5248.0</td>\n",
       "      <td>POLYGON Z ((4.39247 51.13717 0.00000, 4.39519 ...</td>\n",
       "      <td>4.388756</td>\n",
       "      <td>51.132421</td>\n",
       "    </tr>\n",
       "    <tr>\n",
       "      <th>1</th>\n",
       "      <td>11001A01-</td>\n",
       "      <td>DE LEEUWERIK</td>\n",
       "      <td>DE LEEUWERIK</td>\n",
       "      <td>DE LEEUWERIK</td>\n",
       "      <td>11001A</td>\n",
       "      <td>AARTSELAAR</td>\n",
       "      <td>AARTSELAAR</td>\n",
       "      <td>11001</td>\n",
       "      <td>Aartselaar</td>\n",
       "      <td>Aartselaar</td>\n",
       "      <td>...</td>\n",
       "      <td>Flämische Region</td>\n",
       "      <td>BE</td>\n",
       "      <td>BE2</td>\n",
       "      <td>BE21</td>\n",
       "      <td>BE211</td>\n",
       "      <td>67.114679</td>\n",
       "      <td>3935.0</td>\n",
       "      <td>POLYGON Z ((4.39374 51.13858 0.00000, 4.39356 ...</td>\n",
       "      <td>4.384630</td>\n",
       "      <td>51.138929</td>\n",
       "    </tr>\n",
       "  </tbody>\n",
       "</table>\n",
       "<p>2 rows × 32 columns</p>\n",
       "</div>"
      ],
      "text/plain": [
       "  CS01012020            T_SEC_NL            T_SEC_FR            T_SEC_DE  \\\n",
       "0  11001A00-  AARTSELAAR-CENTRUM  AARTSELAAR-CENTRUM  AARTSELAAR-CENTRUM   \n",
       "1  11001A01-        DE LEEUWERIK        DE LEEUWERIK        DE LEEUWERIK   \n",
       "\n",
       "   C_NIS6   T_NIS6_NL   T_NIS6_FR CNIS5_2020    T_MUN_NL    T_MUN_FR  ...  \\\n",
       "0  11001A  AARTSELAAR  AARTSELAAR      11001  Aartselaar  Aartselaar  ...   \n",
       "1  11001A  AARTSELAAR  AARTSELAAR      11001  Aartselaar  Aartselaar  ...   \n",
       "\n",
       "         T_REGIO_DE C_COUNTRY NUTS1 NUTS2  NUTS3  M_AREA_HA M_PERI_M  \\\n",
       "0  Flämische Region        BE   BE2  BE21  BE211  53.158103   5248.0   \n",
       "1  Flämische Region        BE   BE2  BE21  BE211  67.114679   3935.0   \n",
       "\n",
       "                                            geometry centroid_lon centroid_lat  \n",
       "0  POLYGON Z ((4.39247 51.13717 0.00000, 4.39519 ...     4.388756    51.132421  \n",
       "1  POLYGON Z ((4.39374 51.13858 0.00000, 4.39356 ...     4.384630    51.138929  \n",
       "\n",
       "[2 rows x 32 columns]"
      ]
     },
     "execution_count": 11,
     "metadata": {},
     "output_type": "execute_result"
    }
   ],
   "source": [
    "gdf.head(2)"
   ]
  },
  {
   "cell_type": "code",
   "execution_count": 21,
   "metadata": {},
   "outputs": [],
   "source": [
    "center_lat, center_lon = gdf.geometry.centroid.y.mean(), gdf.geometry.centroid.x.mean()\n",
    "\n",
    "# Create the base map centered around your location\n",
    "m = folium.Map(location=[center_lat, center_lon], zoom_start=10)\n",
    "\n",
    "# Add your home marker\n",
    "folium.Marker([home_lat, home_lon], popup=\"Home\", icon=folium.Icon(color=\"red\")).add_to(m)\n",
    "\n",
    "# Add markers for nearby districts\n",
    "for index, row in gdf.iterrows():\n",
    "    district_lat = row[\"centroid_lat\"]\n",
    "    district_lon = row[\"centroid_lon\"]\n",
    "    distance = haversine_distance(home_lat, home_lon,district_lat, district_lon)\n",
    "    if distance <= perimeter_distance:\n",
    "        folium.Marker([district_lat, district_lon], popup=row[\"T_SEC_NL\"]).add_to(m)\n",
    "\n",
    "# Display the map\n",
    "m.save(\"nic_districts_map.html\")\n"
   ]
  },
  {
   "cell_type": "markdown",
   "metadata": {},
   "source": [
    "Once the above map gets created.. you can open the html file & looks at the places under 2 KM from HOME location coorinates"
   ]
  }
 ],
 "metadata": {
  "kernelspec": {
   "display_name": "Python 3",
   "language": "python",
   "name": "python3"
  },
  "language_info": {
   "codemirror_mode": {
    "name": "ipython",
    "version": 3
   },
   "file_extension": ".py",
   "mimetype": "text/x-python",
   "name": "python",
   "nbconvert_exporter": "python",
   "pygments_lexer": "ipython3",
   "version": "3.10.0"
  }
 },
 "nbformat": 4,
 "nbformat_minor": 4
}
